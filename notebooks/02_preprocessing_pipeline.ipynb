{
 "cells": [
  {
   "cell_type": "markdown",
   "id": "6c4a20ac",
   "metadata": {},
   "source": [
    "# Preprocessing Pipeline\n",
    "This notebook preprocesses raw IoT sensor data for training."
   ]
  },
  {
   "cell_type": "code",
   "execution_count": 13,
   "id": "177a0ac9",
   "metadata": {},
   "outputs": [],
   "source": [
    "import pandas as pd\n",
    "from sklearn.preprocessing import StandardScaler\n",
    "import pickle"
   ]
  },
  {
   "cell_type": "code",
   "execution_count": 14,
   "id": "a6a48984",
   "metadata": {},
   "outputs": [
    {
     "name": "stdout",
     "output_type": "stream",
     "text": [
      "✅ Scaling completed and scaler saved!\n"
     ]
    }
   ],
   "source": [
    "import pandas as pd\n",
    "from sklearn.preprocessing import StandardScaler\n",
    "import pickle\n",
    "\n",
    "# Load the data\n",
    "data = pd.read_csv('../data/raw/sensors_day1.csv')\n",
    "\n",
    "# Select only numeric columns\n",
    "numeric_data = data.select_dtypes(include=['number'])\n",
    "\n",
    "# Initialize and fit scaler\n",
    "scaler = StandardScaler()\n",
    "scaled_data = scaler.fit_transform(numeric_data)\n",
    "\n",
    "# Convert back to DataFrame\n",
    "scaled_df = pd.DataFrame(scaled_data, columns=numeric_data.columns)\n",
    "\n",
    "# Save the scaled data\n",
    "scaled_df.to_csv('../data/processed/scaled_sensors_day1.csv', index=False)\n",
    "\n",
    "# Save the scaler object\n",
    "with open('../data/processed/scaler.pkl', 'wb') as f:\n",
    "    pickle.dump(scaler, f)\n",
    "\n",
    "print(\"✅ Scaling completed and scaler saved!\")\n"
   ]
  }
 ],
 "metadata": {
  "language_info": {
   "name": "python"
  }
 },
 "nbformat": 4,
 "nbformat_minor": 5
}
